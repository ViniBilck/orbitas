{
 "cells": [
  {
   "cell_type": "markdown",
   "id": "b6c892e9-52c5-4a4a-91e7-83941aac5838",
   "metadata": {},
   "source": [
    "<img style = \"width: 10%\" src=\"cropped-GAS2.png\"/>\n",
    "<b>Grupo de Astrofísica - GAS UFSC</b><br>\n",
    "Vinicius L. Bilck<br>\n",
    "v.bilck@grad.ufsc.br<br>"
   ]
  },
  {
   "cell_type": "markdown",
   "id": "801977f4-075d-46d3-86f5-c68d4febf061",
   "metadata": {},
   "source": [
    "-----------------"
   ]
  },
  {
   "cell_type": "markdown",
   "id": "9160f349-5476-46c8-94b2-222a47bd3080",
   "metadata": {},
   "source": [
    "## <center> Problema de Dois Corpos - P2 </center>\n",
    "<div style = 'text-align = justify'><p>Este método de resolução abrange outros referenciais, e leva em consideração ambas massas, pode-se observar a interação das mesmas com relação a massa 1, massa 2, ao raio do centro de massa, e também ao referencial inicial.</p>\n",
    "Neste caso o método foi utilizado para solucionar a orbita de dois corpos super massivos, no caso, Galáxias </div>"
   ]
  },
  {
   "cell_type": "markdown",
   "id": "9a6f4abe-4eab-48c2-9464-ad657ff07824",
   "metadata": {
    "tags": []
   },
   "source": [
    "$$\\vec{F_{12}} = m_1\\cdot \\ddot{\\vec{r}_1} \\\\\n",
    "\\vec{F_{21}} = - m_2\\cdot \\ddot{\\vec{r}_2}$$\n",
    "para a força gravitacional entre as duas massas, temos que\n",
    "$$\\vec{F_g} = - Gm_1m_2\\cdot \\frac{\\vec{r}_1 - \\vec{r}_2}{|\\vec{r}_1 - \\vec{r}_2|^3} \\\\ \\\\$$\n",
    "$$ \\\\ F_{12} = F_{g} \\space ; \\space F_{21} = F_{g}$$"
   ]
  },
  {
   "cell_type": "markdown",
   "id": "e97d2d6c-03f4-4b3f-93e3-d16975a021ca",
   "metadata": {},
   "source": [
    "Com base nas equações listas acima, há como obter uma EDO para descobrir a $\\vec{r_1}(t)$ e $\\vec{r_2}(t)$ pois:\n",
    "$$\\ddot{\\vec{r_1}} = - m_2\\cdot G \\frac{\\vec{r}_1 - \\vec{r}_2}{|\\vec{r}_1 - \\vec{r}_2|^3} \\\\$$\n",
    "$$\\\\ \\ddot{\\vec{r_2}} = m_1\\cdot G \\frac{\\vec{r}_1 - \\vec{r}_2}{|\\vec{r}_1 - \\vec{r}_2|^3}$$"
   ]
  },
  {
   "cell_type": "code",
   "execution_count": 1,
   "id": "475aa735-d661-4e8b-8544-c1216de56735",
   "metadata": {},
   "outputs": [],
   "source": [
    "from scipy import integrate as i \n",
    "import numpy as np\n",
    "import matplotlib.pyplot as plt\n",
    "from matplotlib import animation\n",
    "from astropy import units, constants\n",
    "from mpl_toolkits.mplot3d import Axes3D\n",
    "#plt.style.use('science')\n",
    "%matplotlib qt"
   ]
  },
  {
   "cell_type": "markdown",
   "id": "ce86b79d-de14-4fc6-ab4a-5c552bc73764",
   "metadata": {
    "tags": []
   },
   "source": [
    "solve_ivp(fun, t_span, y0) $\\rightarrow \\begin{cases}fun = f \\\\ t_s = \\{t_{i},t_{f}\\} \\\\ y_{0} = [r(t_{i}), \\dot{r}(t_{i}), \\ddot{r}(t_{i})] \\end{cases}$\n",
    "\n",
    "y0, precisa ser ``` np.shape(y0) = (n,) ```\n"
   ]
  },
  {
   "cell_type": "code",
   "execution_count": 2,
   "id": "a6b53db2-4be8-42e2-9b83-2741fecaf43f",
   "metadata": {
    "tags": []
   },
   "outputs": [],
   "source": [
    "##EDO\n",
    "def rtt(t, data, m1, m2, g):\n",
    "    g_  = g \n",
    "    r1 = np.array(data[:3])\n",
    "    r2 = np.array(data[3:6])\n",
    "    R = r1 - r2\n",
    "    r1r2_mod = np.linalg.norm(r1 - r2)\n",
    "    v1 = np.array(data[6:9])\n",
    "    v2 = np.array(data[9:12])\n",
    "    a1 = -(m2 * g_ * R) / r1r2_mod**3\n",
    "    a2 = (m1 * g_ * R) / r1r2_mod**3\n",
    "\n",
    "    return np.concatenate([v1, v2, a1, a2])"
   ]
  },
  {
   "cell_type": "code",
   "execution_count": 21,
   "id": "d1e26d63-aca3-4270-b578-9c8284b209ba",
   "metadata": {},
   "outputs": [],
   "source": [
    "## Dados\n",
    "g_pc = 1e10 * constants.G.to((units.kpc**3) / (units.M_sun * units.Gyr**2)).value ## kpc**3 / (Msol * Gyr**2)\n",
    "\n",
    "\n",
    "##Gal1\n",
    "m_gal1 = 104 #Msol\n",
    "x1, y1, z1 = [0, 0, 0]\n",
    "vx1, vy1, vz1 = [0, 0, 0]\n",
    "\n",
    "##Gal2       \n",
    "m_gal2 = 104 #Msol\n",
    "x2, y2, z2 = [0, -10, 0] #Kpc\n",
    "vx2, vy2, vz2 = [1200, 0, 0] #Kpc/Gyr\n",
    "\n",
    "\n",
    "data = [x1, y1, z1, x2, y2, z2, vx1, vy1, vz1, vx2, vy2, vz2]\n",
    "\n",
    "## EDO Solver\n",
    "sol = i.solve_ivp(rtt, (0, 1), \n",
    "                  data, \n",
    "                  args = (m_gal1, m_gal2, g_pc), \n",
    "                  t_eval = np.arange(0, 1, 1e-4), method='Radau')   "
   ]
  },
  {
   "cell_type": "code",
   "execution_count": 22,
   "id": "b8aed8b1-a1a7-42a2-9e6b-9fc4dc75fc58",
   "metadata": {},
   "outputs": [
    {
     "name": "stdout",
     "output_type": "stream",
     "text": [
      "Ultimo ponto em relação ao centro de massa\n",
      "PR1: [-9.10294033  6.7234713   0.        ] | VR1: [ 21.71237637 313.48700861  -0.        ]\n",
      "PR2: [ 9.10294033 -6.7234713   0.        ] | VR2: [ -21.71237637 -313.48700861   -0.        ]\n"
     ]
    }
   ],
   "source": [
    "## Vetores Posição em Relação a (0,0,0)\n",
    "r_1 = np.column_stack((sol.y[0], sol.y[1], sol.y[2])) #X, Y, Z\n",
    "v_1 = np.column_stack((sol.y[6], sol.y[7], sol.y[8]))\n",
    "r_2 = np.column_stack((sol.y[3], sol.y[4], sol.y[5])) #X, Y, Z\n",
    "v_2 = np.column_stack((sol.y[9], sol.y[10], sol.y[11]))\n",
    "rcm = ((m_gal1 * r_1) + (m_gal2 * r_2)) / (m_gal1 + m_gal2) # R do centro de massa\n",
    "vcm = ((m_gal1 * v_1) + (m_gal2 * v_2)) / (m_gal1 + m_gal2) # V do centro de massa\n",
    "\n",
    "## Em relação a m1\n",
    "r2r1 = r_2 - r_1\n",
    "rcmr1 = rcm - r_1\n",
    "\n",
    "## Em relação a rcm\n",
    "r1rc = rcm - r_1\n",
    "r2rc = rcm - r_2\n",
    "v1rc = vcm - v_1\n",
    "v2rc = vcm - v_2\n",
    "\n",
    "print(f\"Ultimo ponto em relação ao centro de massa\")\n",
    "print(f\"PR1: {r1rc[-1]} | VR1: {-v1rc[-1]}\")\n",
    "print(f\"PR2: {r2rc[-1]} | VR2: {-v2rc[-1]}\")"
   ]
  },
  {
   "cell_type": "markdown",
   "id": "4d491ae2-1ab1-4775-b955-2ee57806ed2a",
   "metadata": {},
   "source": [
    "# Em relação ao Centro de Massa:r2rc"
   ]
  },
  {
   "cell_type": "code",
   "execution_count": 23,
   "id": "24bbbe64-430f-42f2-adf5-7e4f85d82b61",
   "metadata": {},
   "outputs": [],
   "source": [
    "fig = plt.figure()\n",
    "ax = plt.axes(projection='3d')\n",
    "\n",
    "ax.plot3D(r1rc[:,0],r1rc[:,1], r1rc[:,2], label = \"Galaxy 1\")\n",
    "ax.plot3D(r2rc[:,0],r2rc[:,1], r2rc[:,2], label = \"Galaxy 2\")\n",
    "ax.scatter(0,0,0, c = 'r')\n",
    "\n",
    "ax.set_xlabel('x [Kpc]')\n",
    "ax.set_ylabel('y [Kpc]')\n",
    "ax.set_zlabel('z [Kpc]')\n",
    "ax.ticklabel_format(axis=\"x\", style=\"sci\", scilimits=(0,0))\n",
    "ax.ticklabel_format(axis=\"y\", style=\"sci\", scilimits=(0,0))\n",
    "ax.ticklabel_format(axis=\"z\", style=\"sci\", scilimits=(0,0))\n",
    "plt.legend()\n",
    "plt.show()"
   ]
  },
  {
   "cell_type": "markdown",
   "id": "b85f1a59-fb71-4c27-8786-688fec8321bd",
   "metadata": {},
   "source": [
    "# R1 e R2"
   ]
  },
  {
   "cell_type": "code",
   "execution_count": 6,
   "id": "e19b9526-801a-409c-b094-6544f0f21d02",
   "metadata": {},
   "outputs": [],
   "source": [
    "fig = plt.figure()\n",
    "ax = plt.axes(projection='3d')\n",
    "\n",
    "ax.plot3D(r_1[:,0],r_1[:,1], r_1[:,2], label = \"Galaxy 1\")\n",
    "ax.plot3D(r_2[:,0],r_2[:,1], r_2[:,2], label = \"Galaxy 2\")\n",
    "ax.scatter(0,0,0, c = 'r')\n",
    "\n",
    "ax.set_xlabel('x [Kpc]')\n",
    "ax.set_ylabel('y [Kpc]')\n",
    "ax.set_zlabel('z [Kpc]')\n",
    "ax.ticklabel_format(axis=\"x\", style=\"sci\", scilimits=(0,0))\n",
    "ax.ticklabel_format(axis=\"y\", style=\"sci\", scilimits=(0,0))\n",
    "ax.ticklabel_format(axis=\"z\", style=\"sci\", scilimits=(0,0))\n",
    "plt.legend()\n",
    "plt.show()"
   ]
  },
  {
   "cell_type": "code",
   "execution_count": 9,
   "id": "28e9b43d-0068-4e45-a848-113d5975a4c9",
   "metadata": {},
   "outputs": [],
   "source": [
    "numDataPoints = len(sol.y[0])\n",
    "\n",
    "def animate_func(num):\n",
    "    ax.clear()\n",
    "    ax.plot(r1rc[:num,0], r1rc[:num,1], r1rc[:num,2], c='red')\n",
    "    ax.scatter(r1rc[num-1,0], r1rc[num-1,1], r1rc[num-1,2], c='red')\n",
    "    ax.plot(r2rc[:num,0], r2rc[:num,1], r2rc[:num,2], c='b')\n",
    "    ax.scatter(r2rc[num-1,0], r2rc[num-1,1], r2rc[num-1,2], c='b')\n",
    "\n",
    "    ax.set_xlabel('x [Km]')\n",
    "    ax.set_ylabel('y [Km]')\n",
    "    ax.set_zlabel('z [Km]')\n",
    "    ax.ticklabel_format(axis=\"x\", style=\"sci\", scilimits=(0,0))\n",
    "    ax.ticklabel_format(axis=\"y\", style=\"sci\", scilimits=(0,0))\n",
    "    ax.ticklabel_format(axis=\"z\", style=\"sci\", scilimits=(0,0))\n",
    "    plt.title(f'{num} Dias')\n",
    "\n",
    "# Plotting the Animation\n",
    "fig = plt.figure()\n",
    "ax = plt.axes(projection='3d')\n",
    "line_ani = animation.FuncAnimation(fig, animate_func, interval=1,   \n",
    "                                   frames=numDataPoints)\n",
    "plt.show()"
   ]
  },
  {
   "cell_type": "code",
   "execution_count": null,
   "id": "133a859b-8ad6-4966-a04f-b745218c94aa",
   "metadata": {},
   "outputs": [],
   "source": []
  }
 ],
 "metadata": {
  "kernelspec": {
   "display_name": "Python 3 (ipykernel)",
   "language": "python",
   "name": "python3"
  },
  "language_info": {
   "codemirror_mode": {
    "name": "ipython",
    "version": 3
   },
   "file_extension": ".py",
   "mimetype": "text/x-python",
   "name": "python",
   "nbconvert_exporter": "python",
   "pygments_lexer": "ipython3",
   "version": "3.9.7"
  }
 },
 "nbformat": 4,
 "nbformat_minor": 5
}
