{
 "cells": [
  {
   "cell_type": "markdown",
   "id": "b6c892e9-52c5-4a4a-91e7-83941aac5838",
   "metadata": {},
   "source": [
    "<img style = \"width: 10%\" src=\"cropped-GAS2.png\"/>\n",
    "<b>Grupo de Astrofísica - GAS UFSC</b><br>\n",
    "Vinicius L. Bilck<br>\n",
    "v.bilck@grad.ufsc.br<br>"
   ]
  },
  {
   "cell_type": "markdown",
   "id": "801977f4-075d-46d3-86f5-c68d4febf061",
   "metadata": {},
   "source": [
    "-----------------"
   ]
  },
  {
   "cell_type": "markdown",
   "id": "9160f349-5476-46c8-94b2-222a47bd3080",
   "metadata": {},
   "source": [
    "## <center> Problema de Dois Corpos - P1</center>\n",
    "<div style = 'text-align = justify'><p>O método utilizado neste caso, serve para corpos que tem uma diferença de massa notável, pois quando as massas são de ordem parecida há um movimento perceptível de ambos os pontos.</p>\n",
    "Neste caso a massa da terra é consideravelmente maior que a da lua.</div>"
   ]
  },
  {
   "cell_type": "markdown",
   "id": "9a6f4abe-4eab-48c2-9464-ad657ff07824",
   "metadata": {
    "tags": []
   },
   "source": [
    "Dados \n",
    "$$F_{1} = \\frac{G\\cdot M \\cdot m}{r^{2}}$$\n",
    "\n",
    "$$F_{2} = m\\cdot a$$\n",
    "\n",
    "$$\\frac{dr^{2}}{d^{2}t} = \\frac{G\\cdot M}{r^{2}}$$\n",
    "\n",
    "Vetorialmente tenho que:\n",
    "$$\\begin{equation}\n",
    "d\\vec{r}^{2}/d^{2}t = \\frac{- G\\cdot M \\cdot\\vec{r}}{|r|^{3}} = \\begin{cases} \\ddot{x} = - \\frac{G\\cdot M \\cdot x}{|r|^{3}} \\\\ \n",
    "\\ddot{y} =  - \\frac{G\\cdot M \\cdot y}{|r|^{3}} \\\\ \\ddot{z} = - \\frac{G\\cdot M \\cdot z}{|r|^{3}} \\\\ \\end{cases}\n",
    "\\end{equation}$$\n"
   ]
  },
  {
   "cell_type": "code",
   "execution_count": 1,
   "id": "475aa735-d661-4e8b-8544-c1216de56735",
   "metadata": {},
   "outputs": [],
   "source": [
    "from scipy import integrate as i \n",
    "import numpy as np\n",
    "import matplotlib.pyplot as plt\n",
    "from matplotlib import animation\n",
    "from astropy import constants as c\n",
    "from mpl_toolkits.mplot3d import Axes3D\n",
    "%matplotlib qt"
   ]
  },
  {
   "cell_type": "markdown",
   "id": "ce86b79d-de14-4fc6-ab4a-5c552bc73764",
   "metadata": {},
   "source": [
    "solve_ivp(fun, t_span, y0) $\\rightarrow \\begin{cases}fun = f \\\\ t_s = \\{t_{i},t_{f}\\} \\\\ y_{0} = [r(t_{i}), \\dot{r}(t_{i}), \\ddot{r}(t_{i})] \\end{cases}$\n",
    "\n",
    "y0, precisa ser ``` np.shape(y0) = (n,) ```"
   ]
  },
  {
   "cell_type": "code",
   "execution_count": 2,
   "id": "a6b53db2-4be8-42e2-9b83-2741fecaf43f",
   "metadata": {
    "tags": []
   },
   "outputs": [],
   "source": [
    "def time(n: int, unit: str):\n",
    "    '''\n",
    "    Me retorna horas, dias ou anos em segundos\n",
    "    '''\n",
    "    if unit == \"year\":\n",
    "        r = n*365*24*3600\n",
    "    if unit == \"day\":\n",
    "        r = n*24*3600\n",
    "    if unit == \"hour\":\n",
    "        r = n*3600\n",
    "    return r \n",
    "\n",
    "##EDO\n",
    "def rtt(t, data, m, g):\n",
    "    _mg = mass * g       # s⁻² m³⋅Kg⁻¹\n",
    "    mg  = _mg * 1e-9     # s⁻² Km³⋅Kg⁻¹\n",
    "    x, y, z = data[:3]\n",
    "    vx, vy, vz = data[3:6]\n",
    "    ax = - mg * x / np.linalg.norm([x, y, z])**3\n",
    "    ay = - mg * y / np.linalg.norm([x, y, z])**3\n",
    "    az = - mg * z / np.linalg.norm([x, y, z])**3\n",
    "    \n",
    "    return [vx, vy, vz, ax, ay, az]"
   ]
  },
  {
   "cell_type": "code",
   "execution_count": 3,
   "id": "d1e26d63-aca3-4270-b578-9c8284b209ba",
   "metadata": {},
   "outputs": [],
   "source": [
    "## Dados\n",
    "mass = 5.972e24 #Kg -- Terra\n",
    "g = 6.674e-11   #s⁻² m³⋅Kg⁻²\n",
    "v_moon = 1.022  #Km/s\n",
    "r_moon = 384400  #Km -- Terra-lua\n",
    "\n",
    "T = time(28, \"day\") ## periodo\n",
    "jump_time = time(1, \"day\")\n",
    "\n",
    "\n",
    "##-------------------------------------------------------------------------------------------\n",
    "## Coordenadas e Velocidades iniciais no Perigeu\n",
    "## Fontes: https://nssdc.gsfc.nasa.gov/planetary/factsheet/moonfact.html    \n",
    "\n",
    "\n",
    "x, y, z = [0, -0.3633e6, 0]\n",
    "vx, vy, vz = [1.082, 0, 0]\n",
    "##-------------------------------------------------------------------------------------------\n",
    "\n",
    "\n",
    "data = [x, y, z, vx, vy, vz]\n",
    "\n",
    "## EDO \n",
    "sol = i.solve_ivp(rtt, (0, T), \n",
    "                  data, \n",
    "                  args = (mass, g), \n",
    "                  t_eval = np.arange(0, T, jump_time))\n",
    "    \n",
    "    "
   ]
  },
  {
   "cell_type": "code",
   "execution_count": 4,
   "id": "24bbbe64-430f-42f2-adf5-7e4f85d82b61",
   "metadata": {},
   "outputs": [
    {
     "name": "stderr",
     "output_type": "stream",
     "text": [
      "libGL error: MESA-LOADER: failed to open iris: /usr/lib/dri/iris_dri.so: não é possível abrir arquivo compartilhado: Arquivo ou diretório inexistente (search paths /usr/lib/x86_64-linux-gnu/dri:\\$${ORIGIN}/dri:/usr/lib/dri, suffix _dri)\n",
      "libGL error: failed to load driver: iris\n",
      "libGL error: MESA-LOADER: failed to open swrast: /usr/lib/dri/swrast_dri.so: não é possível abrir arquivo compartilhado: Arquivo ou diretório inexistente (search paths /usr/lib/x86_64-linux-gnu/dri:\\$${ORIGIN}/dri:/usr/lib/dri, suffix _dri)\n",
      "libGL error: failed to load driver: swrast\n"
     ]
    }
   ],
   "source": [
    "fig = plt.figure()\n",
    "ax = plt.axes(projection='3d')\n",
    "ax.plot3D(sol.y[0], sol.y[1], sol.y[2], color='black')\n",
    "ax.scatter(sol.y[0][0], sol.y[1][0], sol.y[2][0], color='white', edgecolors='black', label=\"lua\")\n",
    "ax.scatter(0,0,0, c='blue', marker='o', s=300, edgecolors='black', label=\"Terra\")\n",
    "\n",
    "ax.set_xlabel('x [Km]')\n",
    "ax.set_ylabel('y [Km]')\n",
    "ax.set_zlabel('z [Km]')\n",
    "ax.ticklabel_format(axis=\"x\", style=\"sci\", scilimits=(0,0))\n",
    "ax.ticklabel_format(axis=\"y\", style=\"sci\", scilimits=(0,0))\n",
    "ax.ticklabel_format(axis=\"z\", style=\"sci\", scilimits=(0,0))\n",
    "ax.set_xlim(-400000, 400000)\n",
    "ax.set_ylim(-400000, 400000)\n",
    "ax.set_zlim(-400000, 400000)\n",
    "plt.legend()\n",
    "plt.show()"
   ]
  },
  {
   "cell_type": "markdown",
   "id": "88298b80-e683-40c9-84fe-90fcc98eb587",
   "metadata": {},
   "source": [
    "## Simulação em python ??"
   ]
  },
  {
   "cell_type": "code",
   "execution_count": 5,
   "id": "92f39d20-9895-49d9-83b1-88d98e997514",
   "metadata": {},
   "outputs": [],
   "source": [
    "dataSet = np.array([sol.y[0], sol.y[1], sol.y[2]]) \n",
    "numDataPoints = len(sol.y[0])\n",
    "\n",
    "def animate_func(num):\n",
    "    ax.clear()\n",
    "    ax.plot(dataSet[0, :num+1], dataSet[1, :num+1], dataSet[2, :num+1], '-', c='red')    \n",
    "    ax.scatter(dataSet[0, num], dataSet[1, num], dataSet[2, num], c='white', marker='o', edgecolors='black', label=\"Lua\")   \n",
    "    ax.scatter(0,0,0, c='blue', marker='o', s=300, edgecolors='black', label=\"Terra\")\n",
    "\n",
    "    ax.set_xlabel('x [Km]')\n",
    "    ax.set_ylabel('y [Km]')\n",
    "    ax.set_zlabel('z [Km]')\n",
    "    ax.ticklabel_format(axis=\"x\", style=\"sci\", scilimits=(0,0))\n",
    "    ax.ticklabel_format(axis=\"y\", style=\"sci\", scilimits=(0,0))\n",
    "    ax.ticklabel_format(axis=\"z\", style=\"sci\", scilimits=(0,0))\n",
    "    ax.set_xlim(-400000, 400000)\n",
    "    ax.set_ylim(-400000, 400000)\n",
    "    ax.set_zlim(-400000, 400000)\n",
    "    plt.legend()\n",
    "    plt.title(f'{num} Dias')\n",
    "\n",
    "# Plotting the Animation\n",
    "fig = plt.figure()\n",
    "ax = plt.axes(projection='3d')\n",
    "line_ani = animation.FuncAnimation(fig, animate_func, interval=100,   \n",
    "                                   frames=numDataPoints)\n",
    "plt.show()"
   ]
  },
  {
   "cell_type": "markdown",
   "id": "c2e35849-037b-4910-92c0-936653400b4c",
   "metadata": {},
   "source": [
    "## Data Analysis"
   ]
  },
  {
   "cell_type": "code",
   "execution_count": 6,
   "id": "ce822cad-3667-4630-bee8-0acd847329e2",
   "metadata": {},
   "outputs": [
    {
     "name": "stdout",
     "output_type": "stream",
     "text": [
      "--------------------------------------------------------------------------------------------------------------\n",
      "Apogee_Sim = 405766.82341539237 km                    | Apogee_NASA = 405500.0 km               | Erro = 0.07%\n",
      "--------------------------------------------------------------------------------------------------------------\n",
      "Min Velocity in Apogee_Sim = 0.9629438201614335 km/s  | Min Velocity in Apogee_NASA = 0.97 km/s | Erro = 0.73%\n",
      "--------------------------------------------------------------------------------------------------------------\n",
      "Fonte:. https://nssdc.gsfc.nasa.gov/planetary/factsheet/moonfact.html\n"
     ]
    }
   ],
   "source": [
    "data_r = [[dataSet[0][_], dataSet[1][_], dataSet[2][_]] for _ in range(len(dataSet[0]))]\n",
    "data_v = [[sol.y[3][_], sol.y[4][_], sol.y[5][_]] for _ in range(len(dataSet[0]))]\n",
    "r_mod = np.linalg.norm(data_r, axis=1)\n",
    "v_mod = np.linalg.norm(data_v, axis=1)\n",
    "\n",
    "max_rad = max(r_mod)\n",
    "apogee_table = 0.4055e6\n",
    "min_v = min(v_mod)\n",
    "min_v_table = 0.970\n",
    "erro_per = ((max_rad - apogee_table) / apogee_table)*100\n",
    "erro_per_v = abs(((min_v - min_v_table) / min_v_table)*100)\n",
    "\n",
    "print(\"--------------------------------------------------------------------------------------------------------------\")\n",
    "print(f\"Apogee_Sim = {max_rad} km                    | Apogee_NASA = {apogee_table} km               | Erro = {round(erro_per,2)}%\")\n",
    "print(\"--------------------------------------------------------------------------------------------------------------\")\n",
    "print(f\"Min Velocity in Apogee_Sim = {min_v} km/s  | Min Velocity in Apogee_NASA = {min_v_table} km/s | Erro = {round(erro_per_v,2)}%\")\n",
    "print(\"--------------------------------------------------------------------------------------------------------------\")\n",
    "print(\"Fonte:. https://nssdc.gsfc.nasa.gov/planetary/factsheet/moonfact.html\")"
   ]
  }
 ],
 "metadata": {
  "kernelspec": {
   "display_name": "Python 3 (ipykernel)",
   "language": "python",
   "name": "python3"
  },
  "language_info": {
   "codemirror_mode": {
    "name": "ipython",
    "version": 3
   },
   "file_extension": ".py",
   "mimetype": "text/x-python",
   "name": "python",
   "nbconvert_exporter": "python",
   "pygments_lexer": "ipython3",
   "version": "3.9.7"
  }
 },
 "nbformat": 4,
 "nbformat_minor": 5
}
